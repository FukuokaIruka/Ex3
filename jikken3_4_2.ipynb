{
  "nbformat": 4,
  "nbformat_minor": 0,
  "metadata": {
    "colab": {
      "private_outputs": true,
      "provenance": [],
      "toc_visible": true,
      "include_colab_link": true
    },
    "kernelspec": {
      "name": "python3",
      "display_name": "Python 3"
    },
    "language_info": {
      "name": "python"
    }
  },
  "cells": [
    {
      "cell_type": "markdown",
      "metadata": {
        "id": "view-in-github",
        "colab_type": "text"
      },
      "source": [
        "<a href=\"https://colab.research.google.com/github/FukuokaIruka/Ex3/blob/main/jikken3_4_2.ipynb\" target=\"_parent\"><img src=\"https://colab.research.google.com/assets/colab-badge.svg\" alt=\"Open In Colab\"/></a>"
      ]
    },
    {
      "cell_type": "code",
      "execution_count": null,
      "metadata": {
        "id": "NEHWJABc1PHV"
      },
      "outputs": [],
      "source": [
        "!pip install --upgrade gensim\n",
        "!pip install mecab-python3\n",
        "!pip install unidic-lite"
      ]
    },
    {
      "cell_type": "markdown",
      "source": [
        "gensim 戦争してた\n",
        "mecab なんかいる\n",
        "unidic-lite あのー日本語のやつ　　らしいぞ\n",
        "エラーが出たらランタイム再起動セッション\n",
        "\n",
        "下の奴はやるなと。もう遅い!bitch\n"
      ],
      "metadata": {
        "id": "HIE4O86ROFEu"
      }
    },
    {
      "cell_type": "code",
      "source": [
        "# !mkdir data\n",
        "# !wget https://s3-ap-northeast-1.amazonaws.com/dev.tech-sketch.jp/chakki/public/ja.text8.zip -P data/\n",
        "# !unzip data/ja.text8.zip -d data/"
      ],
      "metadata": {
        "id": "qmkDkcsL3vR-"
      },
      "execution_count": null,
      "outputs": []
    },
    {
      "cell_type": "code",
      "source": [
        "import logging\n",
        "from gensim.models.word2vec import Word2Vec, Text8Corpus\n",
        "import numpy as np\n",
        "\n",
        "sample_sents = [['you', 'say', 'goodbye', 'and', 'I', \"say\", \"hello\" '.']]\n",
        "model = Word2Vec(sentences=sample_sents, vector_size=5, window=1, min_count=1)"
      ],
      "metadata": {
        "id": "uw3v9U-b1ZBh"
      },
      "execution_count": null,
      "outputs": []
    },
    {
      "cell_type": "markdown",
      "source": [
        "作ったやつがどうたら。。知らん\n",
        "\n",
        "window is how close to that shit. for each closure??? IDK\n",
        "Having absolutely no idea is crazy"
      ],
      "metadata": {
        "id": "HPxbV47dOsFA"
      }
    },
    {
      "cell_type": "code",
      "source": [
        "model.wv['you']"
      ],
      "metadata": {
        "id": "4yEqjp3J6dkU"
      },
      "execution_count": null,
      "outputs": []
    },
    {
      "cell_type": "code",
      "source": [
        "logging.basicConfig(format='%(asctime)s : %(levelname)s : %(message)s', level=logging.INFO)\n",
        "sentences = Text8Corpus('data/ja.text8')\n",
        "model = Word2Vec(sentences, vector_size=100, window=5, sg=1)"
      ],
      "metadata": {
        "id": "XvMF6mg66ajN"
      },
      "execution_count": null,
      "outputs": []
    },
    {
      "cell_type": "markdown",
      "source": [
        "the thingie above costs 10 minutes but he said it after i clicked so it's not my responsibility tbh lmaoo die fast cpu\n",
        "\n",
        "mine done faster than teacher shii"
      ],
      "metadata": {
        "id": "fzj-XaBgPewN"
      }
    },
    {
      "cell_type": "code",
      "source": [
        "import MeCab\n",
        "\n",
        "def tokenize(text):\n",
        "    \"\"\" テキストを形態素解析して、トークンのリストを返す \"\"\"\n",
        "    mecab = MeCab.Tagger(\"-Owakati -rdictionary/\")\n",
        "    return mecab.parse(text).strip().split()"
      ],
      "metadata": {
        "id": "MPOjO6al60tj"
      },
      "execution_count": null,
      "outputs": []
    },
    {
      "cell_type": "code",
      "source": [],
      "metadata": {
        "id": "bJMza1b0P6_l"
      },
      "execution_count": null,
      "outputs": []
    },
    {
      "cell_type": "markdown",
      "source": [
        "I don't understand quite tbh. The thingie doing training still. Hopefully all I have to do is wait."
      ],
      "metadata": {
        "id": "mqnGgaSRP7xz"
      }
    },
    {
      "cell_type": "code",
      "source": [
        "!mkdir dictionary\n",
        "#!cat /dev/null > ./dicrc"
      ],
      "metadata": {
        "id": "7AomY9-q8S0m"
      },
      "execution_count": null,
      "outputs": []
    },
    {
      "cell_type": "code",
      "source": [
        "documents = [\"これはサンプルの文書です。\", \"Word2Vecの学習を行います。\"]\n",
        "\n",
        "# 形態素解析を行い、単語リストに変換\n",
        "tokenized_documents = [tokenize(doc) for doc in documents]"
      ],
      "metadata": {
        "id": "FFeEefwk7Cst"
      },
      "execution_count": null,
      "outputs": []
    },
    {
      "cell_type": "code",
      "source": [
        "tokenized_documents"
      ],
      "metadata": {
        "id": "jnP9RZE_-Kfc"
      },
      "execution_count": null,
      "outputs": []
    },
    {
      "cell_type": "code",
      "source": [
        "!head --bytes 300 data/ja.text8"
      ],
      "metadata": {
        "id": "w9AlEV4P-O_H"
      },
      "execution_count": null,
      "outputs": []
    },
    {
      "cell_type": "markdown",
      "source": [
        "よく見ればもうスペースで別れている。びっくりだよ\n",
        "\n",
        "---\n",
        "それにしても下のコードの実行が遅すぎる。しね\n"
      ],
      "metadata": {
        "id": "55NOn-VGSpHq"
      }
    },
    {
      "cell_type": "code",
      "source": [
        "model = Word2Vec(\n",
        "    sentences=sentences,  # 学習対象のコーパス\n",
        "    vector_size=100,             # 埋め込みベクトルの次元数\n",
        "    window=5,                    # コンテキストウィンドウのサイズ\n",
        "    min_count=5,                 # 登場頻度が5未満の単語は無視\n",
        "    sg=1,                        # 1でskip-gramを使用（0ならCBOW）\n",
        "    negative=5                   # negative samplingのサンプル数\n",
        ")"
      ],
      "metadata": {
        "id": "xQMj3ysD6iZu"
      },
      "execution_count": null,
      "outputs": []
    },
    {
      "cell_type": "code",
      "source": [
        "model.wv['日本']"
      ],
      "metadata": {
        "id": "m4rj1xMlCFnH"
      },
      "execution_count": null,
      "outputs": []
    },
    {
      "cell_type": "markdown",
      "source": [
        "いろいろなたんごがどうたら。どれぐらい似ているかを計算できるとか。これもNormalisationの犠牲なんだろうか。漂白だあ"
      ],
      "metadata": {
        "id": "Um6gjSXdQgun"
      }
    },
    {
      "cell_type": "markdown",
      "source": [
        "$similarity(w_1, w_2) = \\frac{w_1 \\cdot w_2}{|w_1||w_2|}$"
      ],
      "metadata": {
        "id": "8kabopJ9FeVx"
      }
    },
    {
      "cell_type": "code",
      "source": [
        "model.wv.similarity('猫', '犬')"
      ],
      "metadata": {
        "id": "c_5thqgCB9cN"
      },
      "execution_count": null,
      "outputs": []
    },
    {
      "cell_type": "code",
      "source": [
        "model.wv.most_similar('国王', topn=10)"
      ],
      "metadata": {
        "id": "ufe2Lgoi6MZI"
      },
      "execution_count": null,
      "outputs": []
    },
    {
      "cell_type": "code",
      "source": [
        "maybe_queen = model.wv['王'] - model.wv['男'] + model.wv['女']\n",
        "maybe_queen"
      ],
      "metadata": {
        "id": "8HvUHxLwB-JS"
      },
      "execution_count": null,
      "outputs": []
    },
    {
      "cell_type": "code",
      "source": [
        "model.wv.most_similar(maybe_queen, topn=10)"
      ],
      "metadata": {
        "id": "RbVVA0O9H8CI"
      },
      "execution_count": null,
      "outputs": []
    },
    {
      "cell_type": "code",
      "source": [
        "np.dot(maybe_queen, model.wv['王妃']) / (np.linalg.norm(maybe_queen)) * np.linalg.norm(model.wv['王妃'])"
      ],
      "metadata": {
        "id": "HMiiMCK1HrX7"
      },
      "execution_count": null,
      "outputs": []
    },
    {
      "cell_type": "code",
      "source": [
        "model.wv.most_similar('男', topn=10)"
      ],
      "metadata": {
        "id": "PX__GlcoIKkH"
      },
      "execution_count": null,
      "outputs": []
    },
    {
      "cell_type": "code",
      "source": [
        "maybe_tokyo = model.wv['ロンドン'] - model.wv['イギリス'] + model.wv['日本']\n",
        "model.wv.most_similar(maybe_tokyo, topn=10)"
      ],
      "metadata": {
        "id": "CKtSqFv6ITHM"
      },
      "execution_count": null,
      "outputs": []
    },
    {
      "cell_type": "markdown",
      "source": [
        "。ソチて。その切り方はなくないか"
      ],
      "metadata": {
        "id": "HDYhHNE0VO_y"
      }
    },
    {
      "cell_type": "code",
      "source": [
        "what_animal = (model.wv['犬'] + model.wv['猫']) / 2\n",
        "model.wv.most_similar(what_animal, topn=10)"
      ],
      "metadata": {
        "id": "na-kA5WwQOQn"
      },
      "execution_count": null,
      "outputs": []
    },
    {
      "cell_type": "markdown",
      "source": [],
      "metadata": {
        "id": "j-cpSyUlYAeS"
      }
    },
    {
      "cell_type": "code",
      "source": [
        "import copy\n",
        "\n",
        "all_words = copy.copy(model.wv.index_to_key)\n",
        "len(all_words)"
      ],
      "metadata": {
        "id": "n9zZL8deI6WY"
      },
      "execution_count": null,
      "outputs": []
    },
    {
      "cell_type": "markdown",
      "source": [
        "辞書には75kの単語が。"
      ],
      "metadata": {
        "id": "kL8Duw2ITmnI"
      }
    },
    {
      "cell_type": "code",
      "source": [
        "all_words[600:700]\n",
        "# words"
      ],
      "metadata": {
        "collapsed": true,
        "id": "1ZkKP2EhJLKO"
      },
      "execution_count": null,
      "outputs": []
    },
    {
      "cell_type": "code",
      "source": [
        "from sklearn.manifold import TSNE\n",
        "\n",
        "# words = all_words[34600:35000]\n",
        "# # words = ['教授', '先生', '学生', '兵士', '犬', '猫', '狐', 'ウサギ']\n",
        "# vector_words = model.wv[words]\n",
        "# tsne = TSNE(n_components=2, random_state=42, perplexity=3)\n",
        "# vectors_tsne = tsne.fit_transform(vector_words)\n",
        "\n",
        "vector_words = model.wv[words]\n",
        "tsne = TSNE(n_components=2, random_state=42, perplexity=3)\n",
        "vectors_tsne = tsne.fit_transform(vector_words)"
      ],
      "metadata": {
        "id": "f9xL2D_pJWbl"
      },
      "execution_count": null,
      "outputs": []
    },
    {
      "cell_type": "markdown",
      "source": [
        "t-sne thingie can be done atp. High dementional thingie slapped onto 2 dimentional map."
      ],
      "metadata": {
        "id": "EptyhyrERdjW"
      }
    },
    {
      "cell_type": "code",
      "source": [
        "!pip install japanize-matplotlib"
      ],
      "metadata": {
        "id": "6KEFkUY6LlBl"
      },
      "execution_count": null,
      "outputs": []
    },
    {
      "cell_type": "code",
      "source": [
        "import matplotlib.pyplot as plt\n",
        "import japanize_matplotlib\n",
        "\n",
        "plt.figure(figsize=(10, 10))\n",
        "for i, word in enumerate(words):\n",
        "    plt.scatter(vectors_tsne[i, 0], vectors_tsne[i, 1])\n",
        "    plt.annotate(word, (vectors_tsne[i, 0], vectors_tsne[i, 1]))"
      ],
      "metadata": {
        "id": "YyDeTQTzLDUc"
      },
      "execution_count": null,
      "outputs": []
    },
    {
      "cell_type": "code",
      "source": [
        "from sklearn.cluster import KMeans\n",
        "\n",
        "k = 5\n",
        "kmeans = KMeans(n_clusters=k, n_init=10, random_state=42)\n",
        "# XというデータをK-Means法によって分析する\n",
        "y_pred = kmeans.fit_predict(vector_words)"
      ],
      "metadata": {
        "id": "OLj_PAmtMFkD"
      },
      "execution_count": null,
      "outputs": []
    },
    {
      "cell_type": "code",
      "source": [
        "import pandas as pd\n",
        "\n",
        "words_frame = pd.DataFrame(vector_words)\n",
        "words_frame['label'] = kmeans.labels_"
      ],
      "metadata": {
        "id": "kp9ehwaIMYii"
      },
      "execution_count": null,
      "outputs": []
    },
    {
      "cell_type": "code",
      "source": [
        "plt.figure(figsize=(10, 10))\n",
        "for i, word in enumerate(words):\n",
        "    plt.annotate(word, (vectors_tsne[i, 0], vectors_tsne[i, 1]))\n",
        "plt.scatter(vectors_tsne[:,0], vectors_tsne[:,1], c=words_frame['label'], cmap='Dark2')"
      ],
      "metadata": {
        "id": "scThzsMNNPj3"
      },
      "execution_count": null,
      "outputs": []
    },
    {
      "cell_type": "markdown",
      "source": [
        "まあよくよく考えれば。。。1000ベクトルぐらいあるやつを圧縮してマップにしてあるわけだから精度がさがるのはしょうがないみたいな。らしいぞ。"
      ],
      "metadata": {
        "id": "kQJ8nz7bVsFl"
      }
    },
    {
      "cell_type": "code",
      "source": [
        "model.wv.similarity('ペロ', 'けど')"
      ],
      "metadata": {
        "id": "uk3Vb6YKXiJp"
      },
      "execution_count": null,
      "outputs": []
    },
    {
      "cell_type": "markdown",
      "source": [
        "Ikyaneseではすげえmake senseだが、日本語由来ではなくスペイン語由来なので、そう高い数字は出ていない。うん。"
      ],
      "metadata": {
        "id": "_Ykd6dPoYCME"
      }
    },
    {
      "cell_type": "code",
      "source": [
        "what_but = (model.wv['ペロ'] + model.wv['けど']) / 2\n",
        "model.wv.most_similar(what_but, topn=10)"
      ],
      "metadata": {
        "id": "1YqmpAGIYgbt"
      },
      "execution_count": null,
      "outputs": []
    },
    {
      "cell_type": "markdown",
      "source": [
        "絶望的に\"違う\"んだよな"
      ],
      "metadata": {
        "id": "vaW915l2YupO"
      }
    },
    {
      "cell_type": "code",
      "source": [
        "what_hey = (model.wv['ねえ'] + model.wv['お']) / 2\n",
        "model.wv.most_similar(what_hey, topn=10)"
      ],
      "metadata": {
        "id": "71wm8B0fY0XW"
      },
      "execution_count": null,
      "outputs": []
    },
    {
      "cell_type": "markdown",
      "source": [
        "In Ikyanese we greets with \"o\", and clearly no AI can understand Ikanese just by japanese knowledge. Human can, tho."
      ],
      "metadata": {
        "id": "ESQMFDW6Y-Tn"
      }
    }
  ]
}